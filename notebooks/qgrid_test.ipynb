{
 "cells": [
  {
   "cell_type": "markdown",
   "metadata": {},
   "source": [
    "# Accessing TRACMIP data using `qgrid`\n",
    "\n",
    "This is a sample of what data exploration would look like for TRACMIP using `qgrid`, which renders a dataframe in a form which can easily be filtered and sorted."
   ]
  },
  {
   "cell_type": "code",
   "execution_count": 1,
   "metadata": {},
   "outputs": [],
   "source": [
    "from intake import open_catalog\n",
    "import pandas as pd\n",
    "import qgrid"
   ]
  },
  {
   "cell_type": "markdown",
   "metadata": {},
   "source": [
    "We open the `intake` master catalog and search for the TRACMIP entries:"
   ]
  },
  {
   "cell_type": "code",
   "execution_count": 2,
   "metadata": {},
   "outputs": [],
   "source": [
    "cat = open_catalog(\"https://raw.githubusercontent.com/pangeo-bot/pangeo-datastore/master/master.yaml\").search(\"tracmip\")"
   ]
  },
  {
   "cell_type": "markdown",
   "metadata": {},
   "source": [
    "With this catalog, we can now make a `pandas` dataframe and render it using the `qgrid` widget:"
   ]
  },
  {
   "cell_type": "code",
   "execution_count": 3,
   "metadata": {},
   "outputs": [
    {
     "data": {
      "application/vnd.jupyter.widget-view+json": {
       "model_id": "020ee9a2d06945a9bd4d319e8958ff7b",
       "version_major": 2,
       "version_minor": 0
      },
      "text/plain": [
       "QgridWidget(grid_options={'fullWidthRows': True, 'syncColumnCellResize': True, 'forceFitColumns': True, 'defau…"
      ]
     },
     "metadata": {},
     "output_type": "display_data"
    }
   ],
   "source": [
    "df = pd.DataFrame({\"frequency\"  : [item.split(\".\")[1] for item in list(cat)],\n",
    "                   \"experiment\" : [item.split(\".\")[2] for item in list(cat)],\n",
    "                   \"model\"      : [item.split(\".\")[3] for item in list(cat)],\n",
    "                   \"variable\"   : [item.split(\".\")[4] for item in list(cat)],\n",
    "                   \"version\"    : [item.split(\".\")[5] for item in list(cat)],\n",
    "                   \"source\"     : [cat[item] for item in list(cat)]})\n",
    "\n",
    "qg = qgrid.show_grid(df)\n",
    "qg"
   ]
  },
  {
   "cell_type": "markdown",
   "metadata": {},
   "source": [
    "From here, I'm trying to find a less sloppy way to pull the selected data from the widget to `xarray` datasets, but for now this gets all the desired datasets into one list:"
   ]
  },
  {
   "cell_type": "code",
   "execution_count": 4,
   "metadata": {},
   "outputs": [
    {
     "data": {
      "text/plain": [
       "[<xarray.Dataset>\n",
       " Dimensions:    (bnds: 2, lat: 90, lon: 144, time: 480)\n",
       " Coordinates:\n",
       "   * lat        (lat) float64 -89.49 -87.98 -85.96 -83.93 ... 85.96 87.98 89.49\n",
       "   * lon        (lon) float64 1.25 3.75 6.25 8.75 ... 351.2 353.8 356.2 358.8\n",
       "   * time       (time) object 0046-01-16 00:00:00 ... 0085-12-16 00:00:00\n",
       " Dimensions without coordinates: bnds\n",
       " Data variables:\n",
       "     clivi      (time, lat, lon) float32 dask.array<shape=(480, 90, 144), chunksize=(480, 90, 144)>\n",
       "     lat_bnds   (lat, bnds) float64 dask.array<shape=(90, 2), chunksize=(90, 2)>\n",
       "     lon_bnds   (lon, bnds) float64 dask.array<shape=(144, 2), chunksize=(144, 2)>\n",
       "     time_bnds  (time, bnds) object dask.array<shape=(480, 2), chunksize=(480, 2)>\n",
       " Attributes:\n",
       "     Conventions:            CF-1.4\n",
       "     branch_time:            0.0\n",
       "     cmor_version:           2.9.1\n",
       "     comment:                aqua planet with 4xco2 of TRACMIP; for TRACMIP se...\n",
       "     contact:                Sarah Kang, skang.unist.ac.kr; Elizabeth Maroon, ...\n",
       "     creation_date:          2019-01-13T19:48:53Z\n",
       "     experiment:             aqua planet 4xco2 of TRACMIP\n",
       "     experiment_id:          aqua4xCO2TRACMIP\n",
       "     forcing:                CO2\n",
       "     frequency:              mon\n",
       "     history:                N/A 2019-01-13T19:48:53Z CMOR rewrote data to com...\n",
       "     initialization_method:  1\n",
       "     institute_id:           ULSAN\n",
       "     institution:            School of Urban and Environmental Engineering, Ul...\n",
       "     model_id:               AM21\n",
       "     modeling_realm:         atmos\n",
       "     parent_experiment:      aqua planet control of TRACMIP\n",
       "     parent_experiment_id:   aquaControlTRACMIP\n",
       "     parent_experiment_rip:  r1i1p1\n",
       "     physics_version:        1\n",
       "     product:                output\n",
       "     project_id:             TRACMIP\n",
       "     realization:            1\n",
       "     references:             AM21: Atmosphere component of GFDL-CM2.1;Anderson...\n",
       "     source:                 AM21, 2.0 deg lat x 2.5 deg lon, 24 levels;\n",
       "     table_id:               Table Amon (11 September 2017) 8c633597e288c86e41...\n",
       "     title:                  AM21 model output prepared for TRACMIP aqua plane...\n",
       "     tracking_id:            b606b667-8020-4c07-a824-e2b684d56909,\n",
       " <xarray.Dataset>\n",
       " Dimensions:    (bnds: 2, lat: 90, lon: 144, time: 540)\n",
       " Coordinates:\n",
       "   * lat        (lat) float64 -89.49 -87.98 -85.96 -83.93 ... 85.96 87.98 89.49\n",
       "   * lon        (lon) float64 1.25 3.75 6.25 8.75 ... 351.2 353.8 356.2 358.8\n",
       "   * time       (time) object 0001-01-16 00:00:00 ... 0045-12-16 00:00:00\n",
       " Dimensions without coordinates: bnds\n",
       " Data variables:\n",
       "     clivi      (time, lat, lon) float32 dask.array<shape=(540, 90, 144), chunksize=(540, 90, 144)>\n",
       "     lat_bnds   (lat, bnds) float64 dask.array<shape=(90, 2), chunksize=(90, 2)>\n",
       "     lon_bnds   (lon, bnds) float64 dask.array<shape=(144, 2), chunksize=(144, 2)>\n",
       "     time_bnds  (time, bnds) object dask.array<shape=(540, 2), chunksize=(540, 2)>\n",
       " Attributes:\n",
       "     Conventions:            CF-1.4\n",
       "     branch_time:            0.0\n",
       "     cmor_version:           2.9.1\n",
       "     comment:                aqua planet control of TRACMIP; for TRACMIP see V...\n",
       "     contact:                Sarah Kang, skang.unist.ac.kr; Elizabeth Maroon, ...\n",
       "     creation_date:          2019-01-13T19:44:46Z\n",
       "     experiment:             aqua planet control of TRACMIP\n",
       "     experiment_id:          aquaControlTRACMIP\n",
       "     forcing:                CTRL\n",
       "     frequency:              mon\n",
       "     history:                N/A 2019-01-13T19:44:46Z CMOR rewrote data to com...\n",
       "     initialization_method:  1\n",
       "     institute_id:           ULSAN\n",
       "     institution:            School of Urban and Environmental Engineering, Ul...\n",
       "     model_id:               AM21\n",
       "     modeling_realm:         atmos\n",
       "     parent_experiment:      N/A\n",
       "     parent_experiment_id:   N/A\n",
       "     parent_experiment_rip:  N/A\n",
       "     physics_version:        1\n",
       "     product:                output\n",
       "     project_id:             TRACMIP\n",
       "     realization:            1\n",
       "     references:             AM21: Atmosphere component of GFDL-CM2.1;Anderson...\n",
       "     source:                 AM21, 2.0 deg lat x 2.5 deg lon, 24 levels;\n",
       "     table_id:               Table Amon (11 September 2017) 8c633597e288c86e41...\n",
       "     title:                  AM21 model output prepared for TRACMIP aqua plane...\n",
       "     tracking_id:            105ec5e6-2df9-45b9-95d3-aac301412ca4,\n",
       " <xarray.Dataset>\n",
       " Dimensions:    (bnds: 2, lat: 90, lon: 144, time: 480)\n",
       " Coordinates:\n",
       "   * lat        (lat) float64 -89.49 -87.98 -85.96 -83.93 ... 85.96 87.98 89.49\n",
       "   * lon        (lon) float64 1.25 3.75 6.25 8.75 ... 351.2 353.8 356.2 358.8\n",
       "   * time       (time) object 0086-01-16 00:00:00 ... 0125-12-16 00:00:00\n",
       " Dimensions without coordinates: bnds\n",
       " Data variables:\n",
       "     clivi      (time, lat, lon) float32 dask.array<shape=(480, 90, 144), chunksize=(480, 90, 144)>\n",
       "     lat_bnds   (lat, bnds) float64 dask.array<shape=(90, 2), chunksize=(90, 2)>\n",
       "     lon_bnds   (lon, bnds) float64 dask.array<shape=(144, 2), chunksize=(144, 2)>\n",
       "     time_bnds  (time, bnds) object dask.array<shape=(480, 2), chunksize=(480, 2)>\n",
       " Attributes:\n",
       "     Conventions:            CF-1.4\n",
       "     branch_time:            0.0\n",
       "     cmor_version:           2.9.1\n",
       "     comment:                idealized land with 4xco2 of TRACMIP; note: it ap...\n",
       "     contact:                Sarah Kang, skang.unist.ac.kr; Elizabeth Maroon, ...\n",
       "     creation_date:          2019-01-13T19:56:30Z\n",
       "     experiment:             idealized continent 4xco2 of TRACMIP\n",
       "     experiment_id:          land4xCO2TRACMIP\n",
       "     forcing:                CO2\n",
       "     frequency:              mon\n",
       "     history:                N/A 2019-01-13T19:56:30Z CMOR rewrote data to com...\n",
       "     initialization_method:  1\n",
       "     institute_id:           ULSAN\n",
       "     institution:            School of Urban and Environmental Engineering, Ul...\n",
       "     model_id:               AM21\n",
       "     modeling_realm:         atmos\n",
       "     parent_experiment:      idealized continent control of TRACMIP\n",
       "     parent_experiment_id:   landControlTRACMIP\n",
       "     parent_experiment_rip:  r1i1p1\n",
       "     physics_version:        1\n",
       "     product:                output\n",
       "     project_id:             TRACMIP\n",
       "     realization:            1\n",
       "     references:             AM21: Atmosphere component of GFDL-CM2.1;Anderson...\n",
       "     source:                 AM21, 2.0 deg lat x 2.5 deg lon, 24 levels;\n",
       "     table_id:               Table Amon (11 September 2017) 8c633597e288c86e41...\n",
       "     title:                  AM21 model output prepared for TRACMIP idealized ...\n",
       "     tracking_id:            a686f0b9-fb5c-48f8-b973-12346e8a23af,\n",
       " <xarray.Dataset>\n",
       " Dimensions:    (bnds: 2, lat: 90, lon: 144, time: 480)\n",
       " Coordinates:\n",
       "   * lat        (lat) float64 -89.49 -87.98 -85.96 -83.93 ... 85.96 87.98 89.49\n",
       "   * lon        (lon) float64 1.25 3.75 6.25 8.75 ... 351.2 353.8 356.2 358.8\n",
       "   * time       (time) object 0046-01-16 00:00:00 ... 0085-12-16 00:00:00\n",
       " Dimensions without coordinates: bnds\n",
       " Data variables:\n",
       "     clivi      (time, lat, lon) float32 dask.array<shape=(480, 90, 144), chunksize=(480, 90, 144)>\n",
       "     lat_bnds   (lat, bnds) float64 dask.array<shape=(90, 2), chunksize=(90, 2)>\n",
       "     lon_bnds   (lon, bnds) float64 dask.array<shape=(144, 2), chunksize=(144, 2)>\n",
       "     time_bnds  (time, bnds) object dask.array<shape=(480, 2), chunksize=(480, 2)>\n",
       " Attributes:\n",
       "     Conventions:            CF-1.4\n",
       "     branch_time:            0.0\n",
       "     cmor_version:           2.9.1\n",
       "     comment:                idealized land control of TRACMIP; note: it appea...\n",
       "     contact:                Sarah Kang, skang.unist.ac.kr; Elizabeth Maroon, ...\n",
       "     creation_date:          2019-01-13T19:52:43Z\n",
       "     experiment:             idealized continent control of TRACMIP\n",
       "     experiment_id:          landControlTRACMIP\n",
       "     forcing:                CTRL\n",
       "     frequency:              mon\n",
       "     history:                N/A 2019-01-13T19:52:43Z CMOR rewrote data to com...\n",
       "     initialization_method:  1\n",
       "     institute_id:           ULSAN\n",
       "     institution:            School of Urban and Environmental Engineering, Ul...\n",
       "     model_id:               AM21\n",
       "     modeling_realm:         atmos\n",
       "     parent_experiment:      aqua planet control of TRACMIP\n",
       "     parent_experiment_id:   aquaControlTRACMIP\n",
       "     parent_experiment_rip:  r1i1p1\n",
       "     physics_version:        1\n",
       "     product:                output\n",
       "     project_id:             TRACMIP\n",
       "     realization:            1\n",
       "     references:             AM21: Atmosphere component of GFDL-CM2.1;Anderson...\n",
       "     source:                 AM21, 2.0 deg lat x 2.5 deg lon, 24 levels;\n",
       "     table_id:               Table Amon (11 September 2017) 8c633597e288c86e41...\n",
       "     title:                  AM21 model output prepared for TRACMIP idealized ...\n",
       "     tracking_id:            37a4492a-0db1-4a3f-a523-58ef8238f4ee]"
      ]
     },
     "execution_count": 4,
     "metadata": {},
     "output_type": "execute_result"
    }
   ],
   "source": [
    "ds_list = [item.to_dask() for item in qg.get_changed_df()[\"source\"]]\n",
    "ds_list"
   ]
  },
  {
   "cell_type": "code",
   "execution_count": null,
   "metadata": {},
   "outputs": [],
   "source": []
  }
 ],
 "metadata": {
  "kernelspec": {
   "display_name": "Python 3",
   "language": "python",
   "name": "python3"
  },
  "language_info": {
   "codemirror_mode": {
    "name": "ipython",
    "version": 3
   },
   "file_extension": ".py",
   "mimetype": "text/x-python",
   "name": "python",
   "nbconvert_exporter": "python",
   "pygments_lexer": "ipython3",
   "version": "3.7.3"
  }
 },
 "nbformat": 4,
 "nbformat_minor": 2
}
