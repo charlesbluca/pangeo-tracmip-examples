{
 "cells": [
  {
   "cell_type": "markdown",
   "metadata": {},
   "source": [
    "# Plotting diurnal cycles\n",
    "\n",
    "Quick example of how to compute and plot the average diurnal cycle for the average surface temperature of each model. First, we start up a Kubernetes cluster and client:"
   ]
  },
  {
   "cell_type": "code",
   "execution_count": 1,
   "metadata": {},
   "outputs": [
    {
     "data": {
      "application/vnd.jupyter.widget-view+json": {
       "model_id": "f3bb763315d04c3482b6446472dea9ea",
       "version_major": 2,
       "version_minor": 0
      },
      "text/plain": [
       "VBox(children=(HTML(value='<h2>KubeCluster</h2>'), HBox(children=(HTML(value='\\n<div>\\n  <style scoped>\\n    .…"
      ]
     },
     "metadata": {},
     "output_type": "display_data"
    }
   ],
   "source": [
    "from dask_kubernetes import KubeCluster\n",
    "\n",
    "cluster = KubeCluster(n_workers=10)\n",
    "cluster"
   ]
  },
  {
   "cell_type": "code",
   "execution_count": 2,
   "metadata": {},
   "outputs": [
    {
     "data": {
      "text/html": [
       "<table style=\"border: 2px solid white;\">\n",
       "<tr>\n",
       "<td style=\"vertical-align: top; border: 0px solid white\">\n",
       "<h3 style=\"text-align: left;\">Client</h3>\n",
       "<ul style=\"text-align: left; list-style: none; margin: 0; padding: 0;\">\n",
       "  <li><b>Scheduler: </b>tcp://10.51.186.3:46009</li>\n",
       "  <li><b>Dashboard: </b><a href='/user/charlesbluca-pa-racmip-examples-cym9o64d/proxy/8787/status' target='_blank'>/user/charlesbluca-pa-racmip-examples-cym9o64d/proxy/8787/status</a>\n",
       "</ul>\n",
       "</td>\n",
       "<td style=\"vertical-align: top; border: 0px solid white\">\n",
       "<h3 style=\"text-align: left;\">Cluster</h3>\n",
       "<ul style=\"text-align: left; list-style:none; margin: 0; padding: 0;\">\n",
       "  <li><b>Workers: </b>0</li>\n",
       "  <li><b>Cores: </b>0</li>\n",
       "  <li><b>Memory: </b>0 B</li>\n",
       "</ul>\n",
       "</td>\n",
       "</tr>\n",
       "</table>"
      ],
      "text/plain": [
       "<Client: 'tcp://10.51.186.3:46009' processes=0 threads=0, memory=0 B>"
      ]
     },
     "execution_count": 2,
     "metadata": {},
     "output_type": "execute_result"
    }
   ],
   "source": [
    "from dask.distributed import Client\n",
    "\n",
    "client = Client(cluster)\n",
    "client"
   ]
  },
  {
   "cell_type": "markdown",
   "metadata": {},
   "source": [
    "Then we open up the preexisting catalog of TRACMIP data (we will search for the relevant data):"
   ]
  },
  {
   "cell_type": "code",
   "execution_count": 1,
   "metadata": {},
   "outputs": [
    {
     "data": {
      "text/plain": [
       "<Intake catalog: master_search_search_search_search>"
      ]
     },
     "execution_count": 1,
     "metadata": {},
     "output_type": "execute_result"
    }
   ],
   "source": [
    "from intake import open_catalog\n",
    "\n",
    "cat = open_catalog(\"https://raw.githubusercontent.com/pangeo-bot/pangeo-datastore/master/master.yaml\").search(\"tracmip\") \\\n",
    "                                                                                                      .search(\"landControl\") \\\n",
    "                                                                                                      .search(\"A3hr\") \\\n",
    "                                                                                                      .search(\"ts\") \n",
    "cat"
   ]
  },
  {
   "cell_type": "markdown",
   "metadata": {},
   "source": [
    "Create our dataframe and view it with `qgrid` widget:"
   ]
  },
  {
   "cell_type": "code",
   "execution_count": 2,
   "metadata": {},
   "outputs": [
    {
     "data": {
      "application/vnd.jupyter.widget-view+json": {
       "model_id": "797c99d761614c1a970b36bbc83e2afb",
       "version_major": 2,
       "version_minor": 0
      },
      "text/plain": [
       "QgridWidget(grid_options={'fullWidthRows': True, 'syncColumnCellResize': True, 'forceFitColumns': True, 'defau…"
      ]
     },
     "metadata": {},
     "output_type": "display_data"
    }
   ],
   "source": [
    "from pandas import DataFrame\n",
    "from qgrid import show_grid\n",
    "\n",
    "df = DataFrame({\"frequency\"  : [item.split(\".\")[1] for item in list(cat)],\n",
    "                \"experiment\" : [item.split(\".\")[2] for item in list(cat)],\n",
    "                \"model\"      : [item.split(\".\")[3] for item in list(cat)],\n",
    "                \"variable\"   : [item.split(\".\")[4] for item in list(cat)],\n",
    "                \"version\"    : [item.split(\".\")[5] for item in list(cat)],\n",
    "                \"source\"     : [cat[item] for item in list(cat)]})\n",
    "\n",
    "qg = show_grid(df)\n",
    "qg"
   ]
  },
  {
   "cell_type": "markdown",
   "metadata": {},
   "source": [
    "After selecting our desired data using the widget, pull it in:"
   ]
  },
  {
   "cell_type": "code",
   "execution_count": 3,
   "metadata": {},
   "outputs": [
    {
     "data": {
      "text/plain": [
       "6"
      ]
     },
     "execution_count": 3,
     "metadata": {},
     "output_type": "execute_result"
    }
   ],
   "source": [
    "sources = [item.to_dask() for item in qg.get_changed_df()[\"source\"]]\n",
    "len(sources)"
   ]
  },
  {
   "cell_type": "markdown",
   "metadata": {},
   "source": [
    "Finally, we can use this data to generate a rough plot of the average diurnal cycle over different regions of each model:"
   ]
  },
  {
   "cell_type": "code",
   "execution_count": null,
   "metadata": {},
   "outputs": [],
   "source": [
    "import matplotlib.pyplot as plt\n",
    "%matplotlib inline\n",
    "\n",
    "plt.figure(figsize=(18, 20), facecolor='w', edgecolor='k')\n",
    "\n",
    "for i, source in enumerate(sources):\n",
    "    ax = plt.subplot(5, 3, i + 1)\n",
    "    source[\"ts\"].sel(lon=slice(0,45), lat=slice(-30,30)) \\\n",
    "                .groupby(\"time.hour\").mean(dim=(\"time\", \"lat\", \"lon\")) \\\n",
    "                .plot(color=\"red\", label=\"land\")\n",
    "    source[\"ts\"].sel(lon=slice(45,360), lat=slice(-30,30)) \\\n",
    "                .groupby(\"time.hour\").mean(dim=(\"time\", \"lat\", \"lon\")) \\\n",
    "                .plot(color=\"blue\", label=\"ocean\")\n",
    "    ax.set(title=source.attrs[\"model_id\"], ylabel=source[\"ts\"].attrs[\"units\"])\n",
    "    ax.legend()\n",
    "    \n",
    "plt.tight_layout()"
   ]
  },
  {
   "cell_type": "code",
   "execution_count": null,
   "metadata": {},
   "outputs": [],
   "source": [
    "    "
   ]
  }
 ],
 "metadata": {
  "kernelspec": {
   "display_name": "Python 3",
   "language": "python",
   "name": "python3"
  },
  "language_info": {
   "codemirror_mode": {
    "name": "ipython",
    "version": 3
   },
   "file_extension": ".py",
   "mimetype": "text/x-python",
   "name": "python",
   "nbconvert_exporter": "python",
   "pygments_lexer": "ipython3",
   "version": "3.7.3"
  }
 },
 "nbformat": 4,
 "nbformat_minor": 4
}
